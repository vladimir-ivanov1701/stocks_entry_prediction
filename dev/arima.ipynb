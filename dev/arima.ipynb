{
  "cells": [
    {
      "cell_type": "markdown",
      "metadata": {
        "id": "KwjxUxLUQALN"
      },
      "source": [
        "#Stock Price Forecasting using ARIMA model\n",
        "* We used 3 stocks to test our forecasting model- EXX5, IQQE and IUS4.\n",
        "* Data sets are collected from [Yahoo Finance](https://finance.yahoo.com/)\n",
        "* Time Window: May 2021 to May 2022"
      ]
    },
    {
      "cell_type": "markdown",
      "metadata": {
        "id": "pizof5KVJCx5"
      },
      "source": [
        "#Importing Libraries"
      ]
    },
    {
      "cell_type": "code",
      "execution_count": 2,
      "metadata": {
        "id": "mHoOyqXl6cNC"
      },
      "outputs": [],
      "source": [
        "import pandas as pd\n",
        "import numpy as np\n",
        "import matplotlib.pyplot as plt\n",
        "import seaborn as sns\n",
        "from sklearn.preprocessing import MinMaxScaler\n",
        "import scipy.stats as scs\n",
        "import statsmodels.api as sm\n",
        "from statsmodels.tsa.seasonal import seasonal_decompose\n",
        "from statsmodels.tsa.stattools import adfuller\n",
        "from statsmodels.tsa.stattools import kpss\n",
        "from scipy.stats import normaltest\n",
        "from statsmodels.tsa.stattools import acf,pacf\n",
        "from pmdarima.arima import auto_arima\n",
        "import scipy.interpolate as sci\n",
        "import scipy.optimize as sco\n",
        "from sklearn.metrics import mean_squared_error, mean_absolute_error\n",
        "import math\n",
        "import scipy.optimize as sco\n",
        "import ta\n",
        "from ta.volatility import AverageTrueRange"
      ]
    },
    {
      "cell_type": "markdown",
      "metadata": {
        "id": "CE4ohEaWJKo-"
      },
      "source": [
        "#Importing Data Sets"
      ]
    },
    {
      "cell_type": "markdown",
      "metadata": {
        "id": "vPZ09pR4r5Js"
      },
      "source": [
        "#Formatting Data Sets"
      ]
    },
    {
      "cell_type": "markdown",
      "metadata": {
        "id": "eqFbz3dgRyL-"
      },
      "source": [
        "##Setting Date as the index of the DataFrame."
      ]
    },
    {
      "cell_type": "code",
      "execution_count": 3,
      "metadata": {},
      "outputs": [],
      "source": [
        "df = pd.read_csv(\"../src/daily_data/Si_230101_240831.csv\", sep=\";\")\n",
        "# df = pd.read_excel(\"../src/stock_data.xlsx\", sheet_name=\"Si\")"
      ]
    },
    {
      "cell_type": "code",
      "execution_count": 4,
      "metadata": {},
      "outputs": [],
      "source": [
        "df.rename(\n",
        "    columns = {col: col.replace(\"<\", \"\").replace(\">\", \"\") for col in df.columns},\n",
        "    inplace=True\n",
        ")"
      ]
    },
    {
      "cell_type": "code",
      "execution_count": 5,
      "metadata": {
        "colab": {
          "base_uri": "https://localhost:8080/",
          "height": 237
        },
        "id": "HzWm8ovAOJTJ",
        "outputId": "6a81b4c3-ea22-45af-ac42-bd3f341c3e74"
      },
      "outputs": [
        {
          "data": {
            "text/html": [
              "<div>\n",
              "<style scoped>\n",
              "    .dataframe tbody tr th:only-of-type {\n",
              "        vertical-align: middle;\n",
              "    }\n",
              "\n",
              "    .dataframe tbody tr th {\n",
              "        vertical-align: top;\n",
              "    }\n",
              "\n",
              "    .dataframe thead th {\n",
              "        text-align: right;\n",
              "    }\n",
              "</style>\n",
              "<table border=\"1\" class=\"dataframe\">\n",
              "  <thead>\n",
              "    <tr style=\"text-align: right;\">\n",
              "      <th></th>\n",
              "      <th>TICKER</th>\n",
              "      <th>PER</th>\n",
              "      <th>DATE</th>\n",
              "      <th>TIME</th>\n",
              "      <th>OPEN</th>\n",
              "      <th>HIGH</th>\n",
              "      <th>LOW</th>\n",
              "      <th>CLOSE</th>\n",
              "      <th>VOL</th>\n",
              "    </tr>\n",
              "  </thead>\n",
              "  <tbody>\n",
              "    <tr>\n",
              "      <th>0</th>\n",
              "      <td>Si</td>\n",
              "      <td>D</td>\n",
              "      <td>230103</td>\n",
              "      <td>0</td>\n",
              "      <td>70105</td>\n",
              "      <td>72280</td>\n",
              "      <td>69873</td>\n",
              "      <td>72236</td>\n",
              "      <td>920700</td>\n",
              "    </tr>\n",
              "    <tr>\n",
              "      <th>1</th>\n",
              "      <td>Si</td>\n",
              "      <td>D</td>\n",
              "      <td>230104</td>\n",
              "      <td>0</td>\n",
              "      <td>72227</td>\n",
              "      <td>72600</td>\n",
              "      <td>71310</td>\n",
              "      <td>72530</td>\n",
              "      <td>846368</td>\n",
              "    </tr>\n",
              "    <tr>\n",
              "      <th>2</th>\n",
              "      <td>Si</td>\n",
              "      <td>D</td>\n",
              "      <td>230105</td>\n",
              "      <td>0</td>\n",
              "      <td>72510</td>\n",
              "      <td>72844</td>\n",
              "      <td>71675</td>\n",
              "      <td>72563</td>\n",
              "      <td>708928</td>\n",
              "    </tr>\n",
              "    <tr>\n",
              "      <th>3</th>\n",
              "      <td>Si</td>\n",
              "      <td>D</td>\n",
              "      <td>230106</td>\n",
              "      <td>0</td>\n",
              "      <td>72530</td>\n",
              "      <td>72707</td>\n",
              "      <td>71560</td>\n",
              "      <td>72108</td>\n",
              "      <td>848286</td>\n",
              "    </tr>\n",
              "    <tr>\n",
              "      <th>4</th>\n",
              "      <td>Si</td>\n",
              "      <td>D</td>\n",
              "      <td>230109</td>\n",
              "      <td>0</td>\n",
              "      <td>72100</td>\n",
              "      <td>72100</td>\n",
              "      <td>70001</td>\n",
              "      <td>70350</td>\n",
              "      <td>1354959</td>\n",
              "    </tr>\n",
              "  </tbody>\n",
              "</table>\n",
              "</div>"
            ],
            "text/plain": [
              "  TICKER PER    DATE  TIME   OPEN   HIGH    LOW  CLOSE      VOL\n",
              "0     Si   D  230103     0  70105  72280  69873  72236   920700\n",
              "1     Si   D  230104     0  72227  72600  71310  72530   846368\n",
              "2     Si   D  230105     0  72510  72844  71675  72563   708928\n",
              "3     Si   D  230106     0  72530  72707  71560  72108   848286\n",
              "4     Si   D  230109     0  72100  72100  70001  70350  1354959"
            ]
          },
          "execution_count": 5,
          "metadata": {},
          "output_type": "execute_result"
        }
      ],
      "source": [
        "df.head()"
      ]
    },
    {
      "cell_type": "code",
      "execution_count": 6,
      "metadata": {},
      "outputs": [],
      "source": [
        "df[\"DATE\"] = pd.to_datetime(df[\"DATE\"], format=\"%y%m%d\")"
      ]
    },
    {
      "cell_type": "code",
      "execution_count": 7,
      "metadata": {},
      "outputs": [
        {
          "data": {
            "text/plain": [
              "Timestamp('2023-01-03 00:00:00')"
            ]
          },
          "execution_count": 7,
          "metadata": {},
          "output_type": "execute_result"
        }
      ],
      "source": [
        "df[\"DATE\"].min()"
      ]
    },
    {
      "cell_type": "code",
      "execution_count": 8,
      "metadata": {},
      "outputs": [],
      "source": [
        "test_start_index = df.loc[df[\"DATE\"] == \"2024-01-03\"].index[0]"
      ]
    },
    {
      "cell_type": "code",
      "execution_count": 11,
      "metadata": {},
      "outputs": [
        {
          "name": "stdout",
          "output_type": "stream",
          "text": [
            "Performing stepwise search to minimize aic\n",
            " ARIMA(2,1,2)(0,0,0)[0] intercept   : AIC=-1522.154, Time=1.13 sec\n",
            " ARIMA(0,1,0)(0,0,0)[0] intercept   : AIC=-1510.706, Time=0.04 sec\n",
            " ARIMA(1,1,0)(0,0,0)[0] intercept   : AIC=-1514.902, Time=0.02 sec\n",
            " ARIMA(0,1,1)(0,0,0)[0] intercept   : AIC=-1514.235, Time=0.15 sec\n",
            " ARIMA(0,1,0)(0,0,0)[0]             : AIC=-1510.702, Time=0.02 sec\n",
            " ARIMA(1,1,2)(0,0,0)[0] intercept   : AIC=-1514.599, Time=0.82 sec\n",
            " ARIMA(2,1,1)(0,0,0)[0] intercept   : AIC=-1512.870, Time=0.42 sec\n",
            " ARIMA(3,1,2)(0,0,0)[0] intercept   : AIC=-1519.336, Time=0.50 sec\n",
            " ARIMA(2,1,3)(0,0,0)[0] intercept   : AIC=-1518.890, Time=0.79 sec\n",
            " ARIMA(1,1,1)(0,0,0)[0] intercept   : AIC=-1513.034, Time=0.16 sec\n",
            " ARIMA(1,1,3)(0,0,0)[0] intercept   : AIC=-1520.883, Time=0.42 sec\n",
            " ARIMA(3,1,1)(0,0,0)[0] intercept   : AIC=-1521.308, Time=0.43 sec\n",
            " ARIMA(3,1,3)(0,0,0)[0] intercept   : AIC=-1517.597, Time=0.53 sec\n",
            " ARIMA(2,1,2)(0,0,0)[0]             : AIC=-1524.001, Time=0.34 sec\n",
            " ARIMA(1,1,2)(0,0,0)[0]             : AIC=-1514.686, Time=0.18 sec\n",
            " ARIMA(2,1,1)(0,0,0)[0]             : AIC=-1512.906, Time=0.28 sec\n",
            " ARIMA(3,1,2)(0,0,0)[0]             : AIC=-1519.289, Time=0.42 sec\n",
            " ARIMA(2,1,3)(0,0,0)[0]             : AIC=-1518.862, Time=0.53 sec\n",
            " ARIMA(1,1,1)(0,0,0)[0]             : AIC=-1512.478, Time=0.15 sec\n",
            " ARIMA(1,1,3)(0,0,0)[0]             : AIC=-1520.882, Time=0.40 sec\n",
            " ARIMA(3,1,1)(0,0,0)[0]             : AIC=-1521.290, Time=2.50 sec\n",
            " ARIMA(3,1,3)(0,0,0)[0]             : AIC=-1520.130, Time=0.41 sec\n",
            "\n",
            "Best model:  ARIMA(2,1,2)(0,0,0)[0]          \n",
            "Total fit time: 10.645 seconds\n"
          ]
        },
        {
          "name": "stderr",
          "output_type": "stream",
          "text": [
            "C:\\Users\\vladi\\AppData\\Local\\Temp\\ipykernel_20052\\3568912321.py:21: SettingWithCopyWarning: \n",
            "A value is trying to be set on a copy of a slice from a DataFrame.\n",
            "Try using .loc[row_indexer,col_indexer] = value instead\n",
            "\n",
            "See the caveats in the documentation: https://pandas.pydata.org/pandas-docs/stable/user_guide/indexing.html#returning-a-view-versus-a-copy\n",
            "  test_data[\"prediction\"] = forecast\n"
          ]
        }
      ],
      "source": [
        "# обучение модели и предикт на 1 день\n",
        "\n",
        "train_data = df.loc[df[\"DATE\"] < \"2024-05-01\" ]\n",
        "test_data = df.loc[df[\"DATE\"] >= \"2024-05-01\"]\n",
        "# train_period = 44000\n",
        "# predict_periods = 168\n",
        "\n",
        "# for i in range(test_start_index, len(df), predict_periods):\n",
        "train_data = train_data[\"CLOSE\"]\n",
        "\n",
        "scaler = MinMaxScaler(feature_range=(0, 1))\n",
        "train_values = scaler.fit_transform(np.array(train_data).reshape(-1, 1))\n",
        "model = auto_arima(\n",
        "    train_values,\n",
        "    trace=True,\n",
        "    error_action='ignore',\n",
        "    suppress_warnings=True\n",
        ")\n",
        "forecast = model.predict(n_periods=len(test_data))\n",
        "forecast = scaler.inverse_transform(forecast.reshape(-1, 1))\n",
        "test_data[\"prediction\"] = forecast"
      ]
    },
    {
      "cell_type": "code",
      "execution_count": 12,
      "metadata": {},
      "outputs": [
        {
          "name": "stdout",
          "output_type": "stream",
          "text": [
            "5428.567054199845\n",
            "5840.3644553402755\n"
          ]
        }
      ],
      "source": [
        "mae = mean_absolute_error(test_data[\"CLOSE\"], test_data[\"prediction\"])\n",
        "rmse = np.sqrt(mean_squared_error(test_data[\"CLOSE\"], test_data[\"prediction\"]))\n",
        "print(mae)\n",
        "print(rmse)"
      ]
    },
    {
      "cell_type": "code",
      "execution_count": 13,
      "metadata": {},
      "outputs": [
        {
          "name": "stderr",
          "output_type": "stream",
          "text": [
            "C:\\Users\\vladi\\AppData\\Local\\Temp\\ipykernel_20052\\3928435217.py:1: SettingWithCopyWarning: \n",
            "A value is trying to be set on a copy of a slice from a DataFrame.\n",
            "Try using .loc[row_indexer,col_indexer] = value instead\n",
            "\n",
            "See the caveats in the documentation: https://pandas.pydata.org/pandas-docs/stable/user_guide/indexing.html#returning-a-view-versus-a-copy\n",
            "  test_data[\"prev_prediction\"] = test_data[\"prediction\"].shift()\n"
          ]
        }
      ],
      "source": [
        "test_data[\"prev_prediction\"] = test_data[\"prediction\"].shift()"
      ]
    },
    {
      "cell_type": "code",
      "execution_count": 14,
      "metadata": {},
      "outputs": [
        {
          "data": {
            "text/html": [
              "<div>\n",
              "<style scoped>\n",
              "    .dataframe tbody tr th:only-of-type {\n",
              "        vertical-align: middle;\n",
              "    }\n",
              "\n",
              "    .dataframe tbody tr th {\n",
              "        vertical-align: top;\n",
              "    }\n",
              "\n",
              "    .dataframe thead th {\n",
              "        text-align: right;\n",
              "    }\n",
              "</style>\n",
              "<table border=\"1\" class=\"dataframe\">\n",
              "  <thead>\n",
              "    <tr style=\"text-align: right;\">\n",
              "      <th></th>\n",
              "      <th>TICKER</th>\n",
              "      <th>PER</th>\n",
              "      <th>DATE</th>\n",
              "      <th>TIME</th>\n",
              "      <th>OPEN</th>\n",
              "      <th>HIGH</th>\n",
              "      <th>LOW</th>\n",
              "      <th>CLOSE</th>\n",
              "      <th>VOL</th>\n",
              "      <th>prediction</th>\n",
              "      <th>prev_prediction</th>\n",
              "    </tr>\n",
              "  </thead>\n",
              "  <tbody>\n",
              "    <tr>\n",
              "      <th>338</th>\n",
              "      <td>Si</td>\n",
              "      <td>D</td>\n",
              "      <td>2024-05-02</td>\n",
              "      <td>0</td>\n",
              "      <td>94167</td>\n",
              "      <td>94167</td>\n",
              "      <td>93121</td>\n",
              "      <td>93450</td>\n",
              "      <td>752635</td>\n",
              "      <td>94237.083986</td>\n",
              "      <td>NaN</td>\n",
              "    </tr>\n",
              "    <tr>\n",
              "      <th>339</th>\n",
              "      <td>Si</td>\n",
              "      <td>D</td>\n",
              "      <td>2024-05-03</td>\n",
              "      <td>0</td>\n",
              "      <td>93451</td>\n",
              "      <td>93480</td>\n",
              "      <td>93047</td>\n",
              "      <td>93193</td>\n",
              "      <td>617359</td>\n",
              "      <td>94227.495948</td>\n",
              "      <td>94237.083986</td>\n",
              "    </tr>\n",
              "    <tr>\n",
              "      <th>340</th>\n",
              "      <td>Si</td>\n",
              "      <td>D</td>\n",
              "      <td>2024-05-06</td>\n",
              "      <td>0</td>\n",
              "      <td>93263</td>\n",
              "      <td>93465</td>\n",
              "      <td>92345</td>\n",
              "      <td>92846</td>\n",
              "      <td>677472</td>\n",
              "      <td>94205.216481</td>\n",
              "      <td>94227.495948</td>\n",
              "    </tr>\n",
              "    <tr>\n",
              "      <th>341</th>\n",
              "      <td>Si</td>\n",
              "      <td>D</td>\n",
              "      <td>2024-05-07</td>\n",
              "      <td>0</td>\n",
              "      <td>92848</td>\n",
              "      <td>92990</td>\n",
              "      <td>92400</td>\n",
              "      <td>92799</td>\n",
              "      <td>532861</td>\n",
              "      <td>94250.468081</td>\n",
              "      <td>94205.216481</td>\n",
              "    </tr>\n",
              "    <tr>\n",
              "      <th>342</th>\n",
              "      <td>Si</td>\n",
              "      <td>D</td>\n",
              "      <td>2024-05-08</td>\n",
              "      <td>0</td>\n",
              "      <td>92902</td>\n",
              "      <td>93475</td>\n",
              "      <td>92685</td>\n",
              "      <td>93199</td>\n",
              "      <td>778232</td>\n",
              "      <td>94198.904156</td>\n",
              "      <td>94250.468081</td>\n",
              "    </tr>\n",
              "    <tr>\n",
              "      <th>...</th>\n",
              "      <td>...</td>\n",
              "      <td>...</td>\n",
              "      <td>...</td>\n",
              "      <td>...</td>\n",
              "      <td>...</td>\n",
              "      <td>...</td>\n",
              "      <td>...</td>\n",
              "      <td>...</td>\n",
              "      <td>...</td>\n",
              "      <td>...</td>\n",
              "      <td>...</td>\n",
              "    </tr>\n",
              "    <tr>\n",
              "      <th>418</th>\n",
              "      <td>Si</td>\n",
              "      <td>D</td>\n",
              "      <td>2024-08-26</td>\n",
              "      <td>0</td>\n",
              "      <td>88694</td>\n",
              "      <td>89651</td>\n",
              "      <td>88213</td>\n",
              "      <td>89113</td>\n",
              "      <td>659823</td>\n",
              "      <td>94229.696712</td>\n",
              "      <td>94221.526045</td>\n",
              "    </tr>\n",
              "    <tr>\n",
              "      <th>419</th>\n",
              "      <td>Si</td>\n",
              "      <td>D</td>\n",
              "      <td>2024-08-27</td>\n",
              "      <td>0</td>\n",
              "      <td>89105</td>\n",
              "      <td>89789</td>\n",
              "      <td>88760</td>\n",
              "      <td>89600</td>\n",
              "      <td>526971</td>\n",
              "      <td>94216.695203</td>\n",
              "      <td>94229.696712</td>\n",
              "    </tr>\n",
              "    <tr>\n",
              "      <th>420</th>\n",
              "      <td>Si</td>\n",
              "      <td>D</td>\n",
              "      <td>2024-08-28</td>\n",
              "      <td>0</td>\n",
              "      <td>89600</td>\n",
              "      <td>89967</td>\n",
              "      <td>88934</td>\n",
              "      <td>89412</td>\n",
              "      <td>522477</td>\n",
              "      <td>94229.800571</td>\n",
              "      <td>94216.695203</td>\n",
              "    </tr>\n",
              "    <tr>\n",
              "      <th>421</th>\n",
              "      <td>Si</td>\n",
              "      <td>D</td>\n",
              "      <td>2024-08-29</td>\n",
              "      <td>0</td>\n",
              "      <td>89413</td>\n",
              "      <td>90125</td>\n",
              "      <td>89303</td>\n",
              "      <td>89977</td>\n",
              "      <td>653571</td>\n",
              "      <td>94221.195442</td>\n",
              "      <td>94229.800571</td>\n",
              "    </tr>\n",
              "    <tr>\n",
              "      <th>422</th>\n",
              "      <td>Si</td>\n",
              "      <td>D</td>\n",
              "      <td>2024-08-30</td>\n",
              "      <td>0</td>\n",
              "      <td>89987</td>\n",
              "      <td>90444</td>\n",
              "      <td>89400</td>\n",
              "      <td>89775</td>\n",
              "      <td>476742</td>\n",
              "      <td>94222.431229</td>\n",
              "      <td>94221.195442</td>\n",
              "    </tr>\n",
              "  </tbody>\n",
              "</table>\n",
              "<p>85 rows × 11 columns</p>\n",
              "</div>"
            ],
            "text/plain": [
              "    TICKER PER       DATE  TIME   OPEN   HIGH    LOW  CLOSE     VOL  \\\n",
              "338     Si   D 2024-05-02     0  94167  94167  93121  93450  752635   \n",
              "339     Si   D 2024-05-03     0  93451  93480  93047  93193  617359   \n",
              "340     Si   D 2024-05-06     0  93263  93465  92345  92846  677472   \n",
              "341     Si   D 2024-05-07     0  92848  92990  92400  92799  532861   \n",
              "342     Si   D 2024-05-08     0  92902  93475  92685  93199  778232   \n",
              "..     ...  ..        ...   ...    ...    ...    ...    ...     ...   \n",
              "418     Si   D 2024-08-26     0  88694  89651  88213  89113  659823   \n",
              "419     Si   D 2024-08-27     0  89105  89789  88760  89600  526971   \n",
              "420     Si   D 2024-08-28     0  89600  89967  88934  89412  522477   \n",
              "421     Si   D 2024-08-29     0  89413  90125  89303  89977  653571   \n",
              "422     Si   D 2024-08-30     0  89987  90444  89400  89775  476742   \n",
              "\n",
              "       prediction  prev_prediction  \n",
              "338  94237.083986              NaN  \n",
              "339  94227.495948     94237.083986  \n",
              "340  94205.216481     94227.495948  \n",
              "341  94250.468081     94205.216481  \n",
              "342  94198.904156     94250.468081  \n",
              "..            ...              ...  \n",
              "418  94229.696712     94221.526045  \n",
              "419  94216.695203     94229.696712  \n",
              "420  94229.800571     94216.695203  \n",
              "421  94221.195442     94229.800571  \n",
              "422  94222.431229     94221.195442  \n",
              "\n",
              "[85 rows x 11 columns]"
            ]
          },
          "execution_count": 14,
          "metadata": {},
          "output_type": "execute_result"
        }
      ],
      "source": [
        "test_data"
      ]
    },
    {
      "cell_type": "code",
      "execution_count": 15,
      "metadata": {},
      "outputs": [
        {
          "data": {
            "text/plain": [
              "(85, 11)"
            ]
          },
          "execution_count": 15,
          "metadata": {},
          "output_type": "execute_result"
        }
      ],
      "source": [
        "test_data.shape"
      ]
    },
    {
      "cell_type": "code",
      "execution_count": 16,
      "metadata": {},
      "outputs": [
        {
          "data": {
            "text/plain": [
              "15"
            ]
          },
          "execution_count": 16,
          "metadata": {},
          "output_type": "execute_result"
        }
      ],
      "source": [
        "test_data.loc[(\n",
        "    (test_data[\"prediction\"] > test_data[\"prev_prediction\"]) &\n",
        "    (test_data[\"CLOSE\"] > test_data[\"OPEN\"])\n",
        ")].shape[0]"
      ]
    },
    {
      "cell_type": "code",
      "execution_count": 17,
      "metadata": {},
      "outputs": [
        {
          "data": {
            "text/plain": [
              "22"
            ]
          },
          "execution_count": 17,
          "metadata": {},
          "output_type": "execute_result"
        }
      ],
      "source": [
        "test_data.loc[(\n",
        "    (test_data[\"prediction\"] < test_data[\"prev_prediction\"]) &\n",
        "    (test_data[\"CLOSE\"] < test_data[\"OPEN\"])\n",
        ")].shape[0]"
      ]
    },
    {
      "cell_type": "code",
      "execution_count": 90,
      "metadata": {},
      "outputs": [],
      "source": [
        "def get_atr(data, window=14):\n",
        "    atr = AverageTrueRange(high=data[\"HIGH\"], low=data[\"LOW\"], close=data[\"CLOSE\"], window=window,).average_true_range()\n",
        "    return atr"
      ]
    },
    {
      "cell_type": "code",
      "execution_count": 91,
      "metadata": {},
      "outputs": [],
      "source": [
        "myatr = get_atr(df)\n",
        "df[\"ATR\"] = round(myatr, 2)"
      ]
    },
    {
      "cell_type": "code",
      "execution_count": null,
      "metadata": {},
      "outputs": [],
      "source": [
        "df"
      ]
    },
    {
      "cell_type": "code",
      "execution_count": 93,
      "metadata": {},
      "outputs": [],
      "source": [
        "test_df = df.loc[df[\"DATE\"] >= \"2024-07-01\"].reset_index(drop=True)"
      ]
    },
    {
      "cell_type": "code",
      "execution_count": null,
      "metadata": {},
      "outputs": [],
      "source": [
        "test_df.head()"
      ]
    },
    {
      "cell_type": "code",
      "execution_count": 95,
      "metadata": {},
      "outputs": [],
      "source": [
        "test_df.to_csv(f\"test_data_{train_period}.csv\", sep=\";\", encoding=\"cp1251\", index=False)"
      ]
    },
    {
      "cell_type": "code",
      "execution_count": null,
      "metadata": {},
      "outputs": [],
      "source": []
    }
  ],
  "metadata": {
    "colab": {
      "name": "Stock_price_forecasting.ipynb",
      "provenance": []
    },
    "kernelspec": {
      "display_name": "Python 3",
      "name": "python3"
    },
    "language_info": {
      "codemirror_mode": {
        "name": "ipython",
        "version": 3
      },
      "file_extension": ".py",
      "mimetype": "text/x-python",
      "name": "python",
      "nbconvert_exporter": "python",
      "pygments_lexer": "ipython3",
      "version": "3.11.5"
    }
  },
  "nbformat": 4,
  "nbformat_minor": 0
}
